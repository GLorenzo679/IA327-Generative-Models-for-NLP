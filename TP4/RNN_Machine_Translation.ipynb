{
  "cells": [
    {
      "cell_type": "markdown",
      "metadata": {
        "id": "L2pukCDIb7yT"
      },
      "source": [
        "# Machine Translation\n",
        "\n",
        "In this notebook, we aim to convert English phrases to French using RNN on Deep Learning Neural Network\n"
      ]
    },
    {
      "cell_type": "markdown",
      "metadata": {
        "id": "yva_P1dHb6aH"
      },
      "source": [
        "# Introduction\n",
        "\n",
        "In this notebook, you will build a deep neural network that functions as part of an end-to-end machine translation pipeline. Your completed pipeline will accept English text as input and return the French translation.\n"
      ]
    },
    {
      "cell_type": "code",
      "execution_count": 408,
      "metadata": {
        "id": "1wmao4O0cnLS"
      },
      "outputs": [],
      "source": [
        "# Now importing modules\n",
        "import numpy as np\n",
        "\n",
        "from tensorflow.keras.preprocessing.text import Tokenizer\n",
        "from tensorflow.keras.preprocessing.sequence import pad_sequences\n",
        "from tensorflow.keras.models import Model, Sequential\n",
        "from keras.layers import (\n",
        "    GRU,\n",
        "    Input,\n",
        "    Dense,\n",
        "    TimeDistributed,\n",
        "    Activation,\n",
        "    RepeatVector,\n",
        "    Bidirectional,\n",
        "    Dropout,\n",
        "    LSTM,\n",
        ")\n",
        "from keras.layers import Embedding\n",
        "from keras.optimizers import Adam\n",
        "from keras.losses import sparse_categorical_crossentropy"
      ]
    },
    {
      "cell_type": "code",
      "execution_count": 409,
      "metadata": {
        "id": "X8aiTJTxdrPB"
      },
      "outputs": [],
      "source": [
        "import tensorflow as tf"
      ]
    },
    {
      "cell_type": "markdown",
      "metadata": {
        "id": "Aziw3H_Wcyll"
      },
      "source": [
        "# Load Data\n",
        "\n",
        "The small_vocab_en file contains English sentences with their French translations in the small_vocab_fr file. Load the English and French data from these files from running the cell below.\n"
      ]
    },
    {
      "cell_type": "code",
      "execution_count": 410,
      "metadata": {
        "id": "cboaEhaZcvm3"
      },
      "outputs": [],
      "source": [
        "english_path = (\n",
        "    \"https://raw.githubusercontent.com/projjal1/datasets/master/small_vocab_en.txt\"\n",
        ")\n",
        "french_path = (\n",
        "    \"https://raw.githubusercontent.com/projjal1/datasets/master/small_vocab_fr.txt\"\n",
        ")"
      ]
    },
    {
      "cell_type": "markdown",
      "metadata": {
        "id": "qnOhjwXI1VYO"
      },
      "source": [
        "Load the dataset and split file by lines\n"
      ]
    },
    {
      "cell_type": "code",
      "execution_count": 411,
      "metadata": {
        "id": "7ozqkItv1Pd6"
      },
      "outputs": [],
      "source": [
        "import os\n",
        "\n",
        "\n",
        "def load_data(path):\n",
        "    input_file = os.path.join(path)\n",
        "    with open(input_file, \"r\") as f:\n",
        "        data = f.read()\n",
        "\n",
        "    return data.split(\"\\n\")"
      ]
    },
    {
      "cell_type": "code",
      "execution_count": 412,
      "metadata": {
        "id": "C-jmqlMhdC0H"
      },
      "outputs": [],
      "source": [
        "# Using helper to inport dataset\n",
        "english_data = tf.keras.utils.get_file(\"file1\", english_path)\n",
        "french_data = tf.keras.utils.get_file(\"file2\", french_path)"
      ]
    },
    {
      "cell_type": "code",
      "execution_count": 413,
      "metadata": {
        "id": "crFQWCx2eLsv"
      },
      "outputs": [],
      "source": [
        "# Now loading data\n",
        "english_sentences = load_data(english_data)\n",
        "french_sentences = load_data(french_data)\n",
        "\n",
        "num_train_samples = 10000\n",
        "num_test_samples = 1000\n",
        "\n",
        "train_english_sentences = english_sentences[:num_train_samples]\n",
        "train_french_sentences = french_sentences[:num_train_samples]\n",
        "\n",
        "test_english_sentences = english_sentences[num_train_samples:num_train_samples + num_test_samples]\n",
        "test_french_sentences = french_sentences[num_train_samples:num_train_samples + num_test_samples]"
      ]
    },
    {
      "cell_type": "code",
      "execution_count": 414,
      "metadata": {
        "colab": {
          "base_uri": "https://localhost:8080/"
        },
        "id": "9ssu_57rusXb",
        "outputId": "28c72974-6503-46bc-f1f9-a90b9cc6f13b"
      },
      "outputs": [
        {
          "output_type": "execute_result",
          "data": {
            "text/plain": [
              "(137860, 137860)"
            ]
          },
          "metadata": {},
          "execution_count": 414
        }
      ],
      "source": [
        "len(french_sentences), len(english_sentences)"
      ]
    },
    {
      "cell_type": "markdown",
      "metadata": {
        "id": "hw60fkIXgCB4"
      },
      "source": [
        "# Analysis of Dataset\n",
        "\n",
        "Let us look at a few examples in the dataset of both language\n"
      ]
    },
    {
      "cell_type": "code",
      "execution_count": 415,
      "metadata": {
        "colab": {
          "base_uri": "https://localhost:8080/"
        },
        "id": "9V_5yFcKgI-4",
        "outputId": "17a96d8d-1879-4f56-d870-873aa7b3f4ba"
      },
      "outputs": [
        {
          "output_type": "stream",
          "name": "stdout",
          "text": [
            "Sample : 0\n",
            "new jersey is sometimes quiet during autumn , and it is snowy in april .\n",
            "new jersey est parfois calme pendant l' automne , et il est neigeux en avril .\n",
            "--------------------------------------------------\n",
            "Sample : 1\n",
            "the united states is usually chilly during july , and it is usually freezing in november .\n",
            "les états-unis est généralement froid en juillet , et il gèle habituellement en novembre .\n",
            "--------------------------------------------------\n",
            "Sample : 2\n",
            "california is usually quiet during march , and it is usually hot in june .\n",
            "california est généralement calme en mars , et il est généralement chaud en juin .\n",
            "--------------------------------------------------\n"
          ]
        }
      ],
      "source": [
        "for i in range(3):\n",
        "    print(\"Sample :\", i)\n",
        "    print(train_english_sentences[i])\n",
        "    print(train_french_sentences[i])\n",
        "    print(\"-\" * 50)"
      ]
    },
    {
      "cell_type": "markdown",
      "metadata": {
        "id": "4EV6ri_Shkff"
      },
      "source": [
        "# Convert to Vocabulary\n",
        "\n",
        "The complexity of the problem is determined by the complexity of the vocabulary. A more complex vocabulary is a more complex problem. Let's look at the complexity of the dataset we'll be working with.\n"
      ]
    },
    {
      "cell_type": "code",
      "execution_count": 416,
      "metadata": {
        "id": "_3fQhJ5J2E4D"
      },
      "outputs": [],
      "source": [
        "import collections"
      ]
    },
    {
      "cell_type": "code",
      "execution_count": 417,
      "metadata": {
        "colab": {
          "base_uri": "https://localhost:8080/"
        },
        "id": "_U3gqv5WhOTy",
        "outputId": "f6db9e3e-c6a1-497f-c2ba-81d7b347fde7"
      },
      "outputs": [
        {
          "output_type": "stream",
          "name": "stdout",
          "text": [
            "English Vocab: 226\n",
            "French Vocab: 329\n"
          ]
        }
      ],
      "source": [
        "english_words_counter = collections.Counter(\n",
        "    [word for sentence in train_english_sentences for word in sentence.split()]\n",
        ")\n",
        "french_words_counter = collections.Counter(\n",
        "    [word for sentence in train_french_sentences for word in sentence.split()]\n",
        ")\n",
        "\n",
        "print(\"English Vocab:\", len(english_words_counter))\n",
        "print(\"French Vocab:\", len(french_words_counter))"
      ]
    },
    {
      "cell_type": "markdown",
      "metadata": {
        "id": "lsl03eu-jW09"
      },
      "source": [
        "# Tokenize (IMPLEMENTATION)\n",
        "\n",
        "For a neural network to predict on text data, it first has to be turned into data it can understand. Text data like \"dog\" is a sequence of ASCII character encodings. Since a neural network is a series of multiplication and addition operations, the input data needs to be number(s).\n",
        "\n",
        "We can turn each character into a number or each word into a number. These are called character and word ids, respectively.\n",
        "\n",
        "- Character ids are used for character level models that generate text predictions for each character.\n",
        "- A word level model uses word ids that generate text predictions for each word. Word level models tend to learn better, since they are lower in complexity, so we'll use that.\n",
        "\n",
        "**TO_DO:** Turn each sentence into a sequence of words_ids using Keras's Tokenizer function. Use this function to tokenize english_sentences and french_sentences in the cell below.\n"
      ]
    },
    {
      "cell_type": "code",
      "execution_count": 418,
      "metadata": {
        "id": "cYLtZ0WmjTjD"
      },
      "outputs": [],
      "source": [
        "def tokenize(x):\n",
        "    ## TO_DO:\n",
        "    tokenizer = Tokenizer()\n",
        "    tokenizer.fit_on_texts(x)\n",
        "    return tokenizer"
      ]
    },
    {
      "cell_type": "code",
      "execution_count": 419,
      "metadata": {
        "colab": {
          "base_uri": "https://localhost:8080/"
        },
        "id": "lkhE2V5bjyg_",
        "outputId": "72ba8be9-5646-4117-cc54-b7e50ace5943"
      },
      "outputs": [
        {
          "output_type": "stream",
          "name": "stdout",
          "text": [
            "{'the': 1, 'quick': 2, 'a': 3, 'brown': 4, 'fox': 5, 'jumps': 6, 'over': 7, 'lazy': 8, 'dog': 9, 'by': 10, 'jove': 11, 'my': 12, 'study': 13, 'of': 14, 'lexicography': 15, 'won': 16, 'prize': 17, 'this': 18, 'is': 19, 'short': 20, 'sentence': 21}\n",
            "Sequence 1 in x\n",
            "  Input:  The quick brown fox jumps over the lazy dog .\n",
            "  Output: [1, 2, 4, 5, 6, 7, 1, 8, 9]\n",
            "Sequence 2 in x\n",
            "  Input:  By Jove , my quick study of lexicography won a prize .\n",
            "  Output: [10, 11, 12, 2, 13, 14, 15, 16, 3, 17]\n",
            "Sequence 3 in x\n",
            "  Input:  This is a short sentence .\n",
            "  Output: [18, 19, 3, 20, 21]\n"
          ]
        }
      ],
      "source": [
        "# Tokenize Sample output\n",
        "text_sentences = [\n",
        "    \"The quick brown fox jumps over the lazy dog .\",\n",
        "    \"By Jove , my quick study of lexicography won a prize .\",\n",
        "    \"This is a short sentence .\",\n",
        "]\n",
        "\n",
        "text_tokenizer = tokenize(text_sentences)\n",
        "print(text_tokenizer.word_index)\n",
        "text_tokenized = text_tokenizer.texts_to_sequences(text_sentences)\n",
        "\n",
        "for sample_i, (sent, token_sent) in enumerate(zip(text_sentences, text_tokenized)):\n",
        "    print(\"Sequence {} in x\".format(sample_i + 1))\n",
        "    print(\"  Input:  {}\".format(sent))\n",
        "    print(\"  Output: {}\".format(token_sent))"
      ]
    },
    {
      "cell_type": "markdown",
      "metadata": {
        "id": "cfiSCxQ7kRK3"
      },
      "source": [
        "# Padding (IMPLEMENTATION)\n",
        "\n",
        "When batching the sequence of word ids together, each sequence needs to be the same length. Since sentences are dynamic in length, we can add padding to the end of the sequences to make them the same length.\n",
        "\n",
        "Make sure all the English sequences have the same length and all the French sequences have the same length by adding padding to the end of each sequence using Keras's pad_sequences function.\n"
      ]
    },
    {
      "cell_type": "code",
      "execution_count": 420,
      "metadata": {
        "id": "6Daf_ngukNIS"
      },
      "outputs": [],
      "source": [
        "def pad(x, length=None):\n",
        "    ## TO_DO:\n",
        "    text_padded = pad_sequences(x, maxlen=length, padding=\"post\")\n",
        "    return text_padded"
      ]
    },
    {
      "cell_type": "code",
      "execution_count": 421,
      "metadata": {
        "colab": {
          "base_uri": "https://localhost:8080/"
        },
        "id": "9LHAL30ik5x4",
        "outputId": "b1c3c4b3-1626-48ed-fb27-58ddb1e46a0a"
      },
      "outputs": [
        {
          "output_type": "stream",
          "name": "stdout",
          "text": [
            "Data Preprocessed.\n",
            "Max English sentence length: 15\n",
            "Max French sentence length: 20\n",
            "English vocabulary size: 198\n",
            "French vocabulary size: 318\n"
          ]
        }
      ],
      "source": [
        "def preprocess(x, y):\n",
        "    \"\"\"\n",
        "    Preprocess x and y\n",
        "    :param x: Feature List of sentences\n",
        "    :param y: Label List of sentences\n",
        "    :return: Tuple of (Preprocessed x, Preprocessed y, x tokenizer, y tokenizer)\n",
        "    \"\"\"\n",
        "    x_tk = tokenize(x)\n",
        "    preprocess_x = x_tk.texts_to_sequences(x)\n",
        "    y_tk = tokenize(y)\n",
        "    preprocess_y = y_tk.texts_to_sequences(y)\n",
        "\n",
        "    preprocess_x = pad(preprocess_x)\n",
        "    preprocess_y = pad(preprocess_y)\n",
        "\n",
        "    # Keras's sparse_categorical_crossentropy function requires the labels to be in 3 dimensions\n",
        "    # Expanding dimensions\n",
        "    preprocess_y = preprocess_y.reshape(*preprocess_y.shape, 1)\n",
        "\n",
        "    return preprocess_x, preprocess_y, x_tk, y_tk\n",
        "\n",
        "\n",
        "(\n",
        "    preproc_english_sentences,\n",
        "    preproc_french_sentences,\n",
        "    english_tokenizer,\n",
        "    french_tokenizer,\n",
        ") = preprocess(train_english_sentences, train_french_sentences)\n",
        "\n",
        "max_english_sequence_length = preproc_english_sentences.shape[1]\n",
        "max_french_sequence_length = preproc_french_sentences.shape[1]\n",
        "english_vocab_size = len(english_tokenizer.word_index)\n",
        "french_vocab_size = len(french_tokenizer.word_index)\n",
        "\n",
        "print(\"Data Preprocessed.\")\n",
        "print(\"Max English sentence length:\", max_english_sequence_length)\n",
        "print(\"Max French sentence length:\", max_french_sequence_length)\n",
        "print(\"English vocabulary size:\", english_vocab_size)\n",
        "print(\"French vocabulary size:\", french_vocab_size)"
      ]
    },
    {
      "cell_type": "markdown",
      "metadata": {
        "id": "6n7i4rD_22_J"
      },
      "source": [
        "# Create Model\n"
      ]
    },
    {
      "cell_type": "markdown",
      "metadata": {
        "id": "TSLZv-O_3Bgq"
      },
      "source": [
        "The neural network will translate the input to words ids, which isn't the final form we want. We want the French translation. The function logits_to_text will bridge the gap between the logits from the neural network to the French translation. You'll be using this function to better understand the output of the neural network.\n"
      ]
    },
    {
      "cell_type": "code",
      "execution_count": 422,
      "metadata": {
        "id": "7BDBJKw22yJa"
      },
      "outputs": [],
      "source": [
        "def logits_to_text(logits, tokenizer):\n",
        "    index_to_words = {id: word for word, id in tokenizer.word_index.items()}\n",
        "    index_to_words[0] = \"<PAD>\"\n",
        "\n",
        "    # So basically we are predicting output for a given word and then selecting best answer\n",
        "    # Then selecting that label we reverse-enumerate the word from id\n",
        "    return \" \".join([index_to_words[prediction] for prediction in np.argmax(logits, 1)])"
      ]
    },
    {
      "cell_type": "markdown",
      "metadata": {
        "id": "Mbg5kGAY3cvT"
      },
      "source": [
        "![Model](https://github.com/tommytracey/AIND-Capstone/raw/8267d4fe72e48c595a0aff46eaf0a805fff0f36d/images/embedding.png)\n"
      ]
    },
    {
      "cell_type": "markdown",
      "metadata": {
        "id": "HN-RjzvH3rpp"
      },
      "source": [
        "# Building Model\n",
        "\n",
        "Here we use RNN model combined with GRU nodes for translation.\n",
        "In the code section below, we give a simple model example. You can first run this model and play with it. Then you can change the model architecture by following the Exercise 4 to get better results.\n"
      ]
    },
    {
      "cell_type": "code",
      "execution_count": 423,
      "metadata": {
        "id": "ta5yGpZ23amq"
      },
      "outputs": [],
      "source": [
        "embedding_size = 256\n",
        "\n",
        "def embed_model(\n",
        "    input_shape, output_sequence_length, english_vocab_size, french_vocab_size\n",
        "):\n",
        "    \"\"\"\n",
        "    Build and train a RNN model using word embedding on x and y\n",
        "    :param input_shape: Tuple of input shape\n",
        "    :param output_sequence_length: Length of output sequence\n",
        "    :param english_vocab_size: Number of unique English words in the dataset\n",
        "    :param french_vocab_size: Number of unique French words in the dataset\n",
        "    :return: Keras model built, but not trained\n",
        "    \"\"\"\n",
        "\n",
        "    ## TO_DO: Improve the layers (See Exercise 4)\n",
        "    model = Sequential()\n",
        "    model.add(\n",
        "        Embedding(\n",
        "            english_vocab_size,\n",
        "            embedding_size,\n",
        "            input_length=input_shape[1],\n",
        "            input_shape=input_shape[1:],\n",
        "        )\n",
        "    )\n",
        "    model.add(GRU(embedding_size, return_sequences=True))\n",
        "    model.add(GRU(embedding_size, return_sequences=True))\n",
        "    model.add(GRU(embedding_size, return_sequences=True))\n",
        "    model.add(TimeDistributed(Dense(1024, activation=\"relu\")))\n",
        "    model.add(Dropout(0.5))\n",
        "    model.add(TimeDistributed(Dense(french_vocab_size, activation=\"softmax\")))\n",
        "\n",
        "    return model"
      ]
    },
    {
      "cell_type": "code",
      "execution_count": 424,
      "metadata": {
        "id": "ubkWXBpu32Jh"
      },
      "outputs": [],
      "source": [
        "# Reshaping the input to work with a basic RNN\n",
        "tmp_x = pad(preproc_english_sentences, preproc_french_sentences.shape[1])\n",
        "tmp_x = tmp_x.reshape((-1, preproc_french_sentences.shape[-2]))"
      ]
    },
    {
      "cell_type": "markdown",
      "metadata": {
        "id": "2NXsCzht3-1y"
      },
      "source": [
        "Finally calling the model function\n"
      ]
    },
    {
      "cell_type": "code",
      "execution_count": 425,
      "metadata": {
        "id": "3M0rGoXg7yFI"
      },
      "outputs": [],
      "source": [
        "# Hyperparameters\n",
        "learning_rate = 0.005"
      ]
    },
    {
      "cell_type": "code",
      "execution_count": 426,
      "metadata": {
        "id": "8B9QZgl738qJ"
      },
      "outputs": [],
      "source": [
        "simple_rnn_model = embed_model(\n",
        "    tmp_x.shape,\n",
        "    preproc_french_sentences.shape[1],\n",
        "    len(english_tokenizer.word_index) + 1,\n",
        "    len(french_tokenizer.word_index) + 1,\n",
        ")"
      ]
    },
    {
      "cell_type": "markdown",
      "metadata": {
        "id": "WPWeYKzl8C9v"
      },
      "source": [
        "The output is a sequence of one-hot encoded arrays. Our data-set contains integer-tokens instead of one-hot encoded arrays. Each one-hot encoded array has large number of elements so it would be extremely wasteful to convert the entire data-set to one-hot encoded arrays. A better way is to use a so-called sparse cross-entropy loss-function, which does the conversion internally from integers to one-hot encoded arrays.\n"
      ]
    },
    {
      "cell_type": "code",
      "execution_count": 427,
      "metadata": {
        "id": "nZrlmuX-71VN"
      },
      "outputs": [],
      "source": [
        "# Compile model\n",
        "simple_rnn_model.compile(\n",
        "    loss=sparse_categorical_crossentropy,\n",
        "    optimizer=Adam(learning_rate),\n",
        "    metrics=[\"accuracy\"],\n",
        ")"
      ]
    },
    {
      "cell_type": "code",
      "execution_count": 428,
      "metadata": {
        "colab": {
          "base_uri": "https://localhost:8080/",
          "height": 385
        },
        "id": "R-2dQpBQ4EZa",
        "outputId": "c2d82801-815b-4e02-c430-c0d3889b78f9"
      },
      "outputs": [
        {
          "output_type": "display_data",
          "data": {
            "text/plain": [
              "\u001b[1mModel: \"sequential_13\"\u001b[0m\n"
            ],
            "text/html": [
              "<pre style=\"white-space:pre;overflow-x:auto;line-height:normal;font-family:Menlo,'DejaVu Sans Mono',consolas,'Courier New',monospace\"><span style=\"font-weight: bold\">Model: \"sequential_13\"</span>\n",
              "</pre>\n"
            ]
          },
          "metadata": {}
        },
        {
          "output_type": "display_data",
          "data": {
            "text/plain": [
              "┏━━━━━━━━━━━━━━━━━━━━━━━━━━━━━━━━━━━━━━┳━━━━━━━━━━━━━━━━━━━━━━━━━━━━━┳━━━━━━━━━━━━━━━━━┓\n",
              "┃\u001b[1m \u001b[0m\u001b[1mLayer (type)                        \u001b[0m\u001b[1m \u001b[0m┃\u001b[1m \u001b[0m\u001b[1mOutput Shape               \u001b[0m\u001b[1m \u001b[0m┃\u001b[1m \u001b[0m\u001b[1m        Param #\u001b[0m\u001b[1m \u001b[0m┃\n",
              "┡━━━━━━━━━━━━━━━━━━━━━━━━━━━━━━━━━━━━━━╇━━━━━━━━━━━━━━━━━━━━━━━━━━━━━╇━━━━━━━━━━━━━━━━━┩\n",
              "│ embedding_13 (\u001b[38;5;33mEmbedding\u001b[0m)             │ (\u001b[38;5;45mNone\u001b[0m, \u001b[38;5;34m20\u001b[0m, \u001b[38;5;34m256\u001b[0m)             │          \u001b[38;5;34m50,944\u001b[0m │\n",
              "├──────────────────────────────────────┼─────────────────────────────┼─────────────────┤\n",
              "│ gru_26 (\u001b[38;5;33mGRU\u001b[0m)                         │ (\u001b[38;5;45mNone\u001b[0m, \u001b[38;5;34m20\u001b[0m, \u001b[38;5;34m256\u001b[0m)             │         \u001b[38;5;34m394,752\u001b[0m │\n",
              "├──────────────────────────────────────┼─────────────────────────────┼─────────────────┤\n",
              "│ gru_27 (\u001b[38;5;33mGRU\u001b[0m)                         │ (\u001b[38;5;45mNone\u001b[0m, \u001b[38;5;34m20\u001b[0m, \u001b[38;5;34m256\u001b[0m)             │         \u001b[38;5;34m394,752\u001b[0m │\n",
              "├──────────────────────────────────────┼─────────────────────────────┼─────────────────┤\n",
              "│ gru_28 (\u001b[38;5;33mGRU\u001b[0m)                         │ (\u001b[38;5;45mNone\u001b[0m, \u001b[38;5;34m20\u001b[0m, \u001b[38;5;34m256\u001b[0m)             │         \u001b[38;5;34m394,752\u001b[0m │\n",
              "├──────────────────────────────────────┼─────────────────────────────┼─────────────────┤\n",
              "│ time_distributed_26                  │ (\u001b[38;5;45mNone\u001b[0m, \u001b[38;5;34m20\u001b[0m, \u001b[38;5;34m1024\u001b[0m)            │         \u001b[38;5;34m263,168\u001b[0m │\n",
              "│ (\u001b[38;5;33mTimeDistributed\u001b[0m)                    │                             │                 │\n",
              "├──────────────────────────────────────┼─────────────────────────────┼─────────────────┤\n",
              "│ dropout_13 (\u001b[38;5;33mDropout\u001b[0m)                 │ (\u001b[38;5;45mNone\u001b[0m, \u001b[38;5;34m20\u001b[0m, \u001b[38;5;34m1024\u001b[0m)            │               \u001b[38;5;34m0\u001b[0m │\n",
              "├──────────────────────────────────────┼─────────────────────────────┼─────────────────┤\n",
              "│ time_distributed_27                  │ (\u001b[38;5;45mNone\u001b[0m, \u001b[38;5;34m20\u001b[0m, \u001b[38;5;34m319\u001b[0m)             │         \u001b[38;5;34m326,975\u001b[0m │\n",
              "│ (\u001b[38;5;33mTimeDistributed\u001b[0m)                    │                             │                 │\n",
              "└──────────────────────────────────────┴─────────────────────────────┴─────────────────┘\n"
            ],
            "text/html": [
              "<pre style=\"white-space:pre;overflow-x:auto;line-height:normal;font-family:Menlo,'DejaVu Sans Mono',consolas,'Courier New',monospace\">┏━━━━━━━━━━━━━━━━━━━━━━━━━━━━━━━━━━━━━━┳━━━━━━━━━━━━━━━━━━━━━━━━━━━━━┳━━━━━━━━━━━━━━━━━┓\n",
              "┃<span style=\"font-weight: bold\"> Layer (type)                         </span>┃<span style=\"font-weight: bold\"> Output Shape                </span>┃<span style=\"font-weight: bold\">         Param # </span>┃\n",
              "┡━━━━━━━━━━━━━━━━━━━━━━━━━━━━━━━━━━━━━━╇━━━━━━━━━━━━━━━━━━━━━━━━━━━━━╇━━━━━━━━━━━━━━━━━┩\n",
              "│ embedding_13 (<span style=\"color: #0087ff; text-decoration-color: #0087ff\">Embedding</span>)             │ (<span style=\"color: #00d7ff; text-decoration-color: #00d7ff\">None</span>, <span style=\"color: #00af00; text-decoration-color: #00af00\">20</span>, <span style=\"color: #00af00; text-decoration-color: #00af00\">256</span>)             │          <span style=\"color: #00af00; text-decoration-color: #00af00\">50,944</span> │\n",
              "├──────────────────────────────────────┼─────────────────────────────┼─────────────────┤\n",
              "│ gru_26 (<span style=\"color: #0087ff; text-decoration-color: #0087ff\">GRU</span>)                         │ (<span style=\"color: #00d7ff; text-decoration-color: #00d7ff\">None</span>, <span style=\"color: #00af00; text-decoration-color: #00af00\">20</span>, <span style=\"color: #00af00; text-decoration-color: #00af00\">256</span>)             │         <span style=\"color: #00af00; text-decoration-color: #00af00\">394,752</span> │\n",
              "├──────────────────────────────────────┼─────────────────────────────┼─────────────────┤\n",
              "│ gru_27 (<span style=\"color: #0087ff; text-decoration-color: #0087ff\">GRU</span>)                         │ (<span style=\"color: #00d7ff; text-decoration-color: #00d7ff\">None</span>, <span style=\"color: #00af00; text-decoration-color: #00af00\">20</span>, <span style=\"color: #00af00; text-decoration-color: #00af00\">256</span>)             │         <span style=\"color: #00af00; text-decoration-color: #00af00\">394,752</span> │\n",
              "├──────────────────────────────────────┼─────────────────────────────┼─────────────────┤\n",
              "│ gru_28 (<span style=\"color: #0087ff; text-decoration-color: #0087ff\">GRU</span>)                         │ (<span style=\"color: #00d7ff; text-decoration-color: #00d7ff\">None</span>, <span style=\"color: #00af00; text-decoration-color: #00af00\">20</span>, <span style=\"color: #00af00; text-decoration-color: #00af00\">256</span>)             │         <span style=\"color: #00af00; text-decoration-color: #00af00\">394,752</span> │\n",
              "├──────────────────────────────────────┼─────────────────────────────┼─────────────────┤\n",
              "│ time_distributed_26                  │ (<span style=\"color: #00d7ff; text-decoration-color: #00d7ff\">None</span>, <span style=\"color: #00af00; text-decoration-color: #00af00\">20</span>, <span style=\"color: #00af00; text-decoration-color: #00af00\">1024</span>)            │         <span style=\"color: #00af00; text-decoration-color: #00af00\">263,168</span> │\n",
              "│ (<span style=\"color: #0087ff; text-decoration-color: #0087ff\">TimeDistributed</span>)                    │                             │                 │\n",
              "├──────────────────────────────────────┼─────────────────────────────┼─────────────────┤\n",
              "│ dropout_13 (<span style=\"color: #0087ff; text-decoration-color: #0087ff\">Dropout</span>)                 │ (<span style=\"color: #00d7ff; text-decoration-color: #00d7ff\">None</span>, <span style=\"color: #00af00; text-decoration-color: #00af00\">20</span>, <span style=\"color: #00af00; text-decoration-color: #00af00\">1024</span>)            │               <span style=\"color: #00af00; text-decoration-color: #00af00\">0</span> │\n",
              "├──────────────────────────────────────┼─────────────────────────────┼─────────────────┤\n",
              "│ time_distributed_27                  │ (<span style=\"color: #00d7ff; text-decoration-color: #00d7ff\">None</span>, <span style=\"color: #00af00; text-decoration-color: #00af00\">20</span>, <span style=\"color: #00af00; text-decoration-color: #00af00\">319</span>)             │         <span style=\"color: #00af00; text-decoration-color: #00af00\">326,975</span> │\n",
              "│ (<span style=\"color: #0087ff; text-decoration-color: #0087ff\">TimeDistributed</span>)                    │                             │                 │\n",
              "└──────────────────────────────────────┴─────────────────────────────┴─────────────────┘\n",
              "</pre>\n"
            ]
          },
          "metadata": {}
        },
        {
          "output_type": "display_data",
          "data": {
            "text/plain": [
              "\u001b[1m Total params: \u001b[0m\u001b[38;5;34m1,825,343\u001b[0m (6.96 MB)\n"
            ],
            "text/html": [
              "<pre style=\"white-space:pre;overflow-x:auto;line-height:normal;font-family:Menlo,'DejaVu Sans Mono',consolas,'Courier New',monospace\"><span style=\"font-weight: bold\"> Total params: </span><span style=\"color: #00af00; text-decoration-color: #00af00\">1,825,343</span> (6.96 MB)\n",
              "</pre>\n"
            ]
          },
          "metadata": {}
        },
        {
          "output_type": "display_data",
          "data": {
            "text/plain": [
              "\u001b[1m Trainable params: \u001b[0m\u001b[38;5;34m1,825,343\u001b[0m (6.96 MB)\n"
            ],
            "text/html": [
              "<pre style=\"white-space:pre;overflow-x:auto;line-height:normal;font-family:Menlo,'DejaVu Sans Mono',consolas,'Courier New',monospace\"><span style=\"font-weight: bold\"> Trainable params: </span><span style=\"color: #00af00; text-decoration-color: #00af00\">1,825,343</span> (6.96 MB)\n",
              "</pre>\n"
            ]
          },
          "metadata": {}
        },
        {
          "output_type": "display_data",
          "data": {
            "text/plain": [
              "\u001b[1m Non-trainable params: \u001b[0m\u001b[38;5;34m0\u001b[0m (0.00 B)\n"
            ],
            "text/html": [
              "<pre style=\"white-space:pre;overflow-x:auto;line-height:normal;font-family:Menlo,'DejaVu Sans Mono',consolas,'Courier New',monospace\"><span style=\"font-weight: bold\"> Non-trainable params: </span><span style=\"color: #00af00; text-decoration-color: #00af00\">0</span> (0.00 B)\n",
              "</pre>\n"
            ]
          },
          "metadata": {}
        }
      ],
      "source": [
        "simple_rnn_model.summary()"
      ]
    },
    {
      "cell_type": "markdown",
      "metadata": {
        "id": "tMDG7ttA4JGS"
      },
      "source": [
        "# Training the model\n",
        "\n",
        "Here we start to train the model and pass the english text and the max_sequence_length, with vocab size for both english and french text\n"
      ]
    },
    {
      "cell_type": "code",
      "execution_count": 429,
      "metadata": {
        "colab": {
          "base_uri": "https://localhost:8080/"
        },
        "id": "fY7037yU4HCp",
        "outputId": "757c0925-9a73-4bfb-d6f0-2660c5b92f8d"
      },
      "outputs": [
        {
          "output_type": "stream",
          "name": "stdout",
          "text": [
            "Epoch 1/30\n",
            "\u001b[1m8/8\u001b[0m \u001b[32m━━━━━━━━━━━━━━━━━━━━\u001b[0m\u001b[37m\u001b[0m \u001b[1m7s\u001b[0m 313ms/step - accuracy: 0.2758 - loss: 5.0716 - val_accuracy: 0.4222 - val_loss: 2.7846\n",
            "Epoch 2/30\n",
            "\u001b[1m8/8\u001b[0m \u001b[32m━━━━━━━━━━━━━━━━━━━━\u001b[0m\u001b[37m\u001b[0m \u001b[1m1s\u001b[0m 128ms/step - accuracy: 0.4436 - loss: 2.6795 - val_accuracy: 0.4911 - val_loss: 2.1769\n",
            "Epoch 3/30\n",
            "\u001b[1m8/8\u001b[0m \u001b[32m━━━━━━━━━━━━━━━━━━━━\u001b[0m\u001b[37m\u001b[0m \u001b[1m1s\u001b[0m 127ms/step - accuracy: 0.5048 - loss: 2.0796 - val_accuracy: 0.5527 - val_loss: 1.7392\n",
            "Epoch 4/30\n",
            "\u001b[1m8/8\u001b[0m \u001b[32m━━━━━━━━━━━━━━━━━━━━\u001b[0m\u001b[37m\u001b[0m \u001b[1m1s\u001b[0m 127ms/step - accuracy: 0.5702 - loss: 1.7008 - val_accuracy: 0.6270 - val_loss: 1.4501\n",
            "Epoch 5/30\n",
            "\u001b[1m8/8\u001b[0m \u001b[32m━━━━━━━━━━━━━━━━━━━━\u001b[0m\u001b[37m\u001b[0m \u001b[1m1s\u001b[0m 126ms/step - accuracy: 0.6156 - loss: 1.5052 - val_accuracy: 0.6618 - val_loss: 1.2859\n",
            "Epoch 6/30\n",
            "\u001b[1m8/8\u001b[0m \u001b[32m━━━━━━━━━━━━━━━━━━━━\u001b[0m\u001b[37m\u001b[0m \u001b[1m1s\u001b[0m 138ms/step - accuracy: 0.6646 - loss: 1.2758 - val_accuracy: 0.7033 - val_loss: 1.0989\n",
            "Epoch 7/30\n",
            "\u001b[1m8/8\u001b[0m \u001b[32m━━━━━━━━━━━━━━━━━━━━\u001b[0m\u001b[37m\u001b[0m \u001b[1m1s\u001b[0m 127ms/step - accuracy: 0.7009 - loss: 1.0981 - val_accuracy: 0.7336 - val_loss: 0.9519\n",
            "Epoch 8/30\n",
            "\u001b[1m8/8\u001b[0m \u001b[32m━━━━━━━━━━━━━━━━━━━━\u001b[0m\u001b[37m\u001b[0m \u001b[1m1s\u001b[0m 136ms/step - accuracy: 0.7297 - loss: 0.9679 - val_accuracy: 0.7669 - val_loss: 0.8304\n",
            "Epoch 9/30\n",
            "\u001b[1m8/8\u001b[0m \u001b[32m━━━━━━━━━━━━━━━━━━━━\u001b[0m\u001b[37m\u001b[0m \u001b[1m1s\u001b[0m 136ms/step - accuracy: 0.7590 - loss: 0.8536 - val_accuracy: 0.7904 - val_loss: 0.7333\n",
            "Epoch 10/30\n",
            "\u001b[1m8/8\u001b[0m \u001b[32m━━━━━━━━━━━━━━━━━━━━\u001b[0m\u001b[37m\u001b[0m \u001b[1m1s\u001b[0m 137ms/step - accuracy: 0.7829 - loss: 0.7529 - val_accuracy: 0.8086 - val_loss: 0.6571\n",
            "Epoch 11/30\n",
            "\u001b[1m8/8\u001b[0m \u001b[32m━━━━━━━━━━━━━━━━━━━━\u001b[0m\u001b[37m\u001b[0m \u001b[1m1s\u001b[0m 140ms/step - accuracy: 0.8022 - loss: 0.6733 - val_accuracy: 0.8216 - val_loss: 0.6028\n",
            "Epoch 12/30\n",
            "\u001b[1m8/8\u001b[0m \u001b[32m━━━━━━━━━━━━━━━━━━━━\u001b[0m\u001b[37m\u001b[0m \u001b[1m1s\u001b[0m 140ms/step - accuracy: 0.8195 - loss: 0.6029 - val_accuracy: 0.8373 - val_loss: 0.5456\n",
            "Epoch 13/30\n",
            "\u001b[1m8/8\u001b[0m \u001b[32m━━━━━━━━━━━━━━━━━━━━\u001b[0m\u001b[37m\u001b[0m \u001b[1m1s\u001b[0m 128ms/step - accuracy: 0.8344 - loss: 0.5470 - val_accuracy: 0.8470 - val_loss: 0.5054\n",
            "Epoch 14/30\n",
            "\u001b[1m8/8\u001b[0m \u001b[32m━━━━━━━━━━━━━━━━━━━━\u001b[0m\u001b[37m\u001b[0m \u001b[1m1s\u001b[0m 128ms/step - accuracy: 0.8454 - loss: 0.5046 - val_accuracy: 0.8573 - val_loss: 0.4720\n",
            "Epoch 15/30\n",
            "\u001b[1m8/8\u001b[0m \u001b[32m━━━━━━━━━━━━━━━━━━━━\u001b[0m\u001b[37m\u001b[0m \u001b[1m1s\u001b[0m 128ms/step - accuracy: 0.8597 - loss: 0.4519 - val_accuracy: 0.8619 - val_loss: 0.4524\n",
            "Epoch 16/30\n",
            "\u001b[1m8/8\u001b[0m \u001b[32m━━━━━━━━━━━━━━━━━━━━\u001b[0m\u001b[37m\u001b[0m \u001b[1m1s\u001b[0m 137ms/step - accuracy: 0.8619 - loss: 0.4400 - val_accuracy: 0.8677 - val_loss: 0.4455\n",
            "Epoch 17/30\n",
            "\u001b[1m8/8\u001b[0m \u001b[32m━━━━━━━━━━━━━━━━━━━━\u001b[0m\u001b[37m\u001b[0m \u001b[1m1s\u001b[0m 128ms/step - accuracy: 0.8705 - loss: 0.4127 - val_accuracy: 0.8747 - val_loss: 0.4153\n",
            "Epoch 18/30\n",
            "\u001b[1m8/8\u001b[0m \u001b[32m━━━━━━━━━━━━━━━━━━━━\u001b[0m\u001b[37m\u001b[0m \u001b[1m1s\u001b[0m 137ms/step - accuracy: 0.8776 - loss: 0.3872 - val_accuracy: 0.8660 - val_loss: 0.4324\n",
            "Epoch 19/30\n",
            "\u001b[1m8/8\u001b[0m \u001b[32m━━━━━━━━━━━━━━━━━━━━\u001b[0m\u001b[37m\u001b[0m \u001b[1m1s\u001b[0m 128ms/step - accuracy: 0.8779 - loss: 0.3785 - val_accuracy: 0.8714 - val_loss: 0.4106\n",
            "Epoch 20/30\n",
            "\u001b[1m8/8\u001b[0m \u001b[32m━━━━━━━━━━━━━━━━━━━━\u001b[0m\u001b[37m\u001b[0m \u001b[1m1s\u001b[0m 137ms/step - accuracy: 0.8815 - loss: 0.3689 - val_accuracy: 0.8811 - val_loss: 0.3947\n",
            "Epoch 21/30\n",
            "\u001b[1m8/8\u001b[0m \u001b[32m━━━━━━━━━━━━━━━━━━━━\u001b[0m\u001b[37m\u001b[0m \u001b[1m1s\u001b[0m 140ms/step - accuracy: 0.8936 - loss: 0.3314 - val_accuracy: 0.8847 - val_loss: 0.3767\n",
            "Epoch 22/30\n",
            "\u001b[1m8/8\u001b[0m \u001b[32m━━━━━━━━━━━━━━━━━━━━\u001b[0m\u001b[37m\u001b[0m \u001b[1m1s\u001b[0m 134ms/step - accuracy: 0.8995 - loss: 0.3077 - val_accuracy: 0.8925 - val_loss: 0.3635\n",
            "Epoch 23/30\n",
            "\u001b[1m8/8\u001b[0m \u001b[32m━━━━━━━━━━━━━━━━━━━━\u001b[0m\u001b[37m\u001b[0m \u001b[1m1s\u001b[0m 131ms/step - accuracy: 0.9069 - loss: 0.2821 - val_accuracy: 0.8949 - val_loss: 0.3616\n",
            "Epoch 24/30\n",
            "\u001b[1m8/8\u001b[0m \u001b[32m━━━━━━━━━━━━━━━━━━━━\u001b[0m\u001b[37m\u001b[0m \u001b[1m1s\u001b[0m 129ms/step - accuracy: 0.9116 - loss: 0.2700 - val_accuracy: 0.8931 - val_loss: 0.3661\n",
            "Epoch 25/30\n",
            "\u001b[1m8/8\u001b[0m \u001b[32m━━━━━━━━━━━━━━━━━━━━\u001b[0m\u001b[37m\u001b[0m \u001b[1m1s\u001b[0m 129ms/step - accuracy: 0.9162 - loss: 0.2483 - val_accuracy: 0.8987 - val_loss: 0.3658\n",
            "Epoch 26/30\n",
            "\u001b[1m8/8\u001b[0m \u001b[32m━━━━━━━━━━━━━━━━━━━━\u001b[0m\u001b[37m\u001b[0m \u001b[1m1s\u001b[0m 138ms/step - accuracy: 0.9155 - loss: 0.2584 - val_accuracy: 0.8969 - val_loss: 0.3626\n",
            "Epoch 27/30\n",
            "\u001b[1m8/8\u001b[0m \u001b[32m━━━━━━━━━━━━━━━━━━━━\u001b[0m\u001b[37m\u001b[0m \u001b[1m1s\u001b[0m 138ms/step - accuracy: 0.9181 - loss: 0.2468 - val_accuracy: 0.8982 - val_loss: 0.3672\n",
            "Epoch 28/30\n",
            "\u001b[1m8/8\u001b[0m \u001b[32m━━━━━━━━━━━━━━━━━━━━\u001b[0m\u001b[37m\u001b[0m \u001b[1m1s\u001b[0m 138ms/step - accuracy: 0.9230 - loss: 0.2261 - val_accuracy: 0.8988 - val_loss: 0.3688\n",
            "Epoch 29/30\n",
            "\u001b[1m8/8\u001b[0m \u001b[32m━━━━━━━━━━━━━━━━━━━━\u001b[0m\u001b[37m\u001b[0m \u001b[1m1s\u001b[0m 129ms/step - accuracy: 0.9253 - loss: 0.2219 - val_accuracy: 0.9007 - val_loss: 0.3753\n",
            "Epoch 30/30\n",
            "\u001b[1m8/8\u001b[0m \u001b[32m━━━━━━━━━━━━━━━━━━━━\u001b[0m\u001b[37m\u001b[0m \u001b[1m1s\u001b[0m 129ms/step - accuracy: 0.9276 - loss: 0.2137 - val_accuracy: 0.9020 - val_loss: 0.3600\n"
          ]
        }
      ],
      "source": [
        "history = simple_rnn_model.fit(\n",
        "    tmp_x, preproc_french_sentences, batch_size=1024, epochs=30, validation_split=0.2\n",
        ")"
      ]
    },
    {
      "cell_type": "markdown",
      "metadata": {
        "id": "Lg0KtRlXBHPE"
      },
      "source": [
        "# Arbitrary Predictions\n",
        "\n",
        "Try with arbitary examples in the corpus to see the translation\n"
      ]
    },
    {
      "cell_type": "code",
      "execution_count": 430,
      "metadata": {
        "id": "ys8_8FhABNfx"
      },
      "outputs": [],
      "source": [
        "import re\n",
        "\n",
        "\n",
        "def final_predictions(text):\n",
        "    y_id_to_word = {value: key for key, value in french_tokenizer.word_index.items()}\n",
        "    y_id_to_word[0] = \"<PAD>\"\n",
        "\n",
        "    sentence = [english_tokenizer.word_index[word] for word in text.split()]\n",
        "    sentence = pad_sequences(\n",
        "        [sentence], maxlen=preproc_french_sentences.shape[-2], padding=\"post\"\n",
        "    )\n",
        "    french_translation = logits_to_text(\n",
        "        simple_rnn_model.predict(sentence[:1], verbose=0)[0], french_tokenizer\n",
        "    )\n",
        "    return re.split(r\"\\s*<PAD>\", french_translation, 1)[0]"
      ]
    },
    {
      "cell_type": "code",
      "execution_count": 431,
      "metadata": {
        "colab": {
          "base_uri": "https://localhost:8080/"
        },
        "id": "pJp2gkLYE0zZ",
        "outputId": "dc08f40a-aea5-4e36-cfa3-5d4c7d7c9cf6"
      },
      "outputs": [
        {
          "output_type": "stream",
          "name": "stdout",
          "text": [
            "English:  new jersey is sometimes quiet during autumn , and it is snowy in april .\n",
            "French:  new jersey est parfois calme pendant l' automne et il est neigeux en avril\n"
          ]
        }
      ],
      "source": [
        "txt = train_english_sentences[0].lower()\n",
        "print(\"English: \", train_english_sentences[0])\n",
        "print(\"French: \", final_predictions(re.sub(r\"[^\\w]\", \" \", txt)))"
      ]
    },
    {
      "cell_type": "markdown",
      "metadata": {
        "id": "YCnczDOTwy8g"
      },
      "source": [
        "# Evaluation\n",
        "\n",
        "In this section, we provide the example code for you to do the evaluation using BLEU score metrics.\n"
      ]
    },
    {
      "cell_type": "code",
      "execution_count": 432,
      "metadata": {
        "id": "-tw6EtMsw1Oo"
      },
      "outputs": [],
      "source": [
        "# useful tokenization\n",
        "import re\n",
        "from functools import lru_cache\n",
        "\n",
        "\n",
        "class BaseTokenizer:\n",
        "    \"\"\"A base dummy tokenizer to derive from.\"\"\"\n",
        "\n",
        "    def signature(self):\n",
        "        \"\"\"\n",
        "        Returns a signature for the tokenizer.\n",
        "        :return: signature string\n",
        "        \"\"\"\n",
        "        return \"none\"\n",
        "\n",
        "    def __call__(self, line):\n",
        "        \"\"\"\n",
        "        Tokenizes an input line with the tokenizer.\n",
        "        :param line: a segment to tokenize\n",
        "        :return: the tokenized line\n",
        "        \"\"\"\n",
        "        return line\n",
        "\n",
        "\n",
        "class TokenizerRegexp(BaseTokenizer):\n",
        "    def signature(self):\n",
        "        return \"re\"\n",
        "\n",
        "    def __init__(self):\n",
        "        self._re = [\n",
        "            # language-dependent part (assuming Western languages)\n",
        "            (re.compile(r\"([\\{-\\~\\[-\\` -\\&\\(-\\+\\:-\\@\\/])\"), r\" \\1 \"),\n",
        "            # tokenize period and comma unless preceded by a digit\n",
        "            (re.compile(r\"([^0-9])([\\.,])\"), r\"\\1 \\2 \"),\n",
        "            # tokenize period and comma unless followed by a digit\n",
        "            (re.compile(r\"([\\.,])([^0-9])\"), r\" \\1 \\2\"),\n",
        "            # tokenize dash when preceded by a digit\n",
        "            (re.compile(r\"([0-9])(-)\"), r\"\\1 \\2 \"),\n",
        "            # one space only between words\n",
        "            # NOTE: Doing this in Python (below) is faster\n",
        "            # (re.compile(r'\\s+'), r' '),\n",
        "        ]\n",
        "\n",
        "    @lru_cache(maxsize=2**16)\n",
        "    def __call__(self, line):\n",
        "        \"\"\"Common post-processing tokenizer for `13a` and `zh` tokenizers.\n",
        "        :param line: a segment to tokenize\n",
        "        :return: the tokenized line\n",
        "        \"\"\"\n",
        "        for _re, repl in self._re:\n",
        "            line = _re.sub(repl, line)\n",
        "\n",
        "        # no leading or trailing spaces, single space within words\n",
        "        # return ' '.join(line.split())\n",
        "        # This line is changed with regards to the original tokenizer (seen above) to return individual words\n",
        "        return line.split()\n",
        "\n",
        "\n",
        "class Tokenizer13a(BaseTokenizer):\n",
        "    def signature(self):\n",
        "        return \"13a\"\n",
        "\n",
        "    def __init__(self):\n",
        "        self._post_tokenizer = TokenizerRegexp()\n",
        "\n",
        "    @lru_cache(maxsize=2**16)\n",
        "    def __call__(self, line):\n",
        "        \"\"\"Tokenizes an input line using a relatively minimal tokenization\n",
        "        that is however equivalent to mteval-v13a, used by WMT.\n",
        "\n",
        "        :param line: a segment to tokenize\n",
        "        :return: the tokenized line\n",
        "        \"\"\"\n",
        "\n",
        "        # language-independent part:\n",
        "        line = line.replace(\"<skipped>\", \"\")\n",
        "        line = line.replace(\"-\\n\", \"\")\n",
        "        line = line.replace(\"\\n\", \" \")\n",
        "\n",
        "        if \"&\" in line:\n",
        "            line = line.replace(\"&quot;\", '\"')\n",
        "            line = line.replace(\"&amp;\", \"&\")\n",
        "            line = line.replace(\"&lt;\", \"<\")\n",
        "            line = line.replace(\"&gt;\", \">\")\n",
        "\n",
        "        return self._post_tokenizer(f\" {line} \")"
      ]
    },
    {
      "cell_type": "code",
      "execution_count": 433,
      "metadata": {
        "id": "jCgY6DRtw1RL"
      },
      "outputs": [],
      "source": [
        "import collections\n",
        "import math\n",
        "\n",
        "\n",
        "def get_ngrams(segment, max_order):\n",
        "    \"\"\"Extracts all n-grams upto a given maximum order from an input segment.\n",
        "\n",
        "    Args:\n",
        "      segment: text segment from which n-grams will be extracted.\n",
        "      max_order: maximum length in tokens of the n-grams returned by this\n",
        "          methods.\n",
        "\n",
        "    Returns:\n",
        "      The Counter containing all n-grams upto max_order in segment\n",
        "      with a count of how many times each n-gram occurred.\n",
        "    \"\"\"\n",
        "    ngram_counts = collections.Counter()\n",
        "    for order in range(1, max_order + 1):\n",
        "        for i in range(0, len(segment) - order + 1):\n",
        "            ngram = tuple(segment[i : i + order])\n",
        "            ngram_counts[ngram] += 1\n",
        "    return ngram_counts\n",
        "\n",
        "\n",
        "def compute_bleu(reference_corpus, translation_corpus, max_order=4):\n",
        "    \"\"\"Computes BLEU score of translated segments against one or more references.\n",
        "\n",
        "    Args:\n",
        "      reference_corpus: list of lists of references for each translation. Each\n",
        "          reference should be tokenized into a list of tokens.\n",
        "      translation_corpus: list of translations to score. Each translation\n",
        "          should be tokenized into a list of tokens.\n",
        "      max_order: Maximum n-gram order to use when computing BLEU score.\n",
        "\n",
        "    Returns:\n",
        "      3-Tuple with the BLEU score, n-gram precisions, geometric mean of n-gram\n",
        "      precisions and brevity penalty.\n",
        "    \"\"\"\n",
        "    matches_by_order = [0] * max_order\n",
        "    possible_matches_by_order = [0] * max_order\n",
        "    reference_length = 0\n",
        "    translation_length = 0\n",
        "    for references, translation in zip(reference_corpus, translation_corpus):\n",
        "        reference_length += min(len(r) for r in references)\n",
        "        translation_length += len(translation)\n",
        "\n",
        "        merged_ref_ngram_counts = collections.Counter()\n",
        "        for reference in references:\n",
        "            merged_ref_ngram_counts |= get_ngrams(reference, max_order)\n",
        "        translation_ngram_counts = get_ngrams(translation, max_order)\n",
        "        overlap = translation_ngram_counts & merged_ref_ngram_counts\n",
        "        for ngram in overlap:\n",
        "            matches_by_order[len(ngram) - 1] += overlap[ngram]\n",
        "        for order in range(1, max_order + 1):\n",
        "            possible_matches = len(translation) - order + 1\n",
        "            if possible_matches > 0:\n",
        "                possible_matches_by_order[order - 1] += possible_matches\n",
        "\n",
        "    precisions = [0] * max_order\n",
        "    for i in range(0, max_order):\n",
        "        if possible_matches_by_order[i] > 0:\n",
        "            precisions[i] = float(matches_by_order[i]) / possible_matches_by_order[i]\n",
        "        else:\n",
        "            precisions[i] = 0.0\n",
        "\n",
        "    if min(precisions) > 0:\n",
        "        ## TO_DO: compute the geometric mean of all modified precision scores\n",
        "        p_log_sum = sum((math.log(p) for p in precisions)) / max_order\n",
        "        geo_mean = math.exp(p_log_sum)\n",
        "    else:\n",
        "        geo_mean = 0\n",
        "\n",
        "    ## TO_DO: compute the brevity penalty (BP)\n",
        "    ratio = float(translation_length) / reference_length\n",
        "\n",
        "    if ratio > 1.0:\n",
        "        bp = 1.0\n",
        "    elif ratio == 0:\n",
        "        bp = 0\n",
        "    else:\n",
        "        bp = math.exp(1 - 1.0 / ratio)\n",
        "\n",
        "    # final bleu score\n",
        "    bleu = geo_mean * bp\n",
        "\n",
        "    return (bleu, precisions, bp, ratio, translation_length, reference_length)"
      ]
    },
    {
      "cell_type": "code",
      "execution_count": 434,
      "metadata": {
        "id": "iImFSNKr0YSy"
      },
      "outputs": [],
      "source": [
        "# Evaluation\n",
        "def compute_bleu_score(predictions, references, tokenizer=Tokenizer13a(), max_order=4):\n",
        "    # if only one reference is provided make sure we still use list of lists\n",
        "    if isinstance(references[0], str):\n",
        "        references = [[ref] for ref in references]\n",
        "\n",
        "    references = [[tokenizer(r) for r in ref] for ref in references]\n",
        "    predictions = [tokenizer(p) for p in predictions]\n",
        "    score = compute_bleu(\n",
        "        reference_corpus=references, translation_corpus=predictions, max_order=max_order\n",
        "    )\n",
        "    (bleu, precisions, bp, ratio, translation_length, reference_length) = score\n",
        "    return {\n",
        "        \"bleu\": bleu,\n",
        "        \"precisions\": precisions,\n",
        "        \"brevity_penalty\": bp,\n",
        "        \"length_ratio\": ratio,\n",
        "        \"translation_length\": translation_length,\n",
        "        \"reference_length\": reference_length,\n",
        "    }"
      ]
    },
    {
      "cell_type": "markdown",
      "metadata": {
        "id": "IT5G7o64ynAJ"
      },
      "source": [
        "A small example for real evaluation, feel free to change the final_predictions funtion to make it more adaptable.\n"
      ]
    },
    {
      "cell_type": "code",
      "execution_count": 435,
      "metadata": {
        "colab": {
          "base_uri": "https://localhost:8080/"
        },
        "id": "QjTIcReMw1T1",
        "outputId": "e43123a7-c82c-453e-8e7a-c01c95be0e8d"
      },
      "outputs": [
        {
          "output_type": "execute_result",
          "data": {
            "text/plain": [
              "{'bleu': 0.631832870017691,\n",
              " 'precisions': [0.8260869565217391, 0.609375],\n",
              " 'brevity_penalty': 0.8905268465458593,\n",
              " 'length_ratio': 0.8961038961038961,\n",
              " 'translation_length': 69,\n",
              " 'reference_length': 77}"
            ]
          },
          "metadata": {},
          "execution_count": 435
        }
      ],
      "source": [
        "references = train_french_sentences[:5]\n",
        "predictions = [\n",
        "    final_predictions(re.sub(r\"[^\\w]\", \" \", txt)) for txt in train_english_sentences[:5]\n",
        "]\n",
        "compute_bleu_score(predictions, references, max_order=2)"
      ]
    },
    {
      "cell_type": "markdown",
      "metadata": {
        "id": "7DBwPbx8vt7u"
      },
      "source": [
        "# Exercises:\n",
        "\n",
        "- Please complete the code under **TO_DO**\n",
        "- Complete the evaluation metrics (BLEU) and evaluate the whole dataset.\n",
        "- Train with more epochs. Does it improve the translations?\n",
        "- Change the architectures of the neural network, Does it improve the translations? For example:\n",
        "  - change the number of GRU layers\n",
        "  - change embedding-size\n",
        "  - try Bidirectional-RNN\n",
        "- Please finally submit the notebook with the best architecture settings that you found and comment your results.\n"
      ]
    },
    {
      "cell_type": "markdown",
      "source": [
        "# Results on test set"
      ],
      "metadata": {
        "id": "lXlWYvamgnRY"
      }
    },
    {
      "cell_type": "code",
      "source": [
        "from tqdm import tqdm\n",
        "\n",
        "predictions = []\n",
        "for eng_sentence in tqdm(test_english_sentences):\n",
        "    translation = final_predictions(re.sub(r\"[^\\w']\", \" \", eng_sentence))\n",
        "    predictions.append(translation)"
      ],
      "metadata": {
        "colab": {
          "base_uri": "https://localhost:8080/"
        },
        "id": "H9b_PhbgdRXk",
        "outputId": "d5319485-6421-439a-b458-d8ca6b1eda69"
      },
      "execution_count": 436,
      "outputs": [
        {
          "output_type": "stream",
          "name": "stderr",
          "text": [
            "100%|██████████| 1000/1000 [01:10<00:00, 14.25it/s]\n"
          ]
        }
      ]
    },
    {
      "cell_type": "code",
      "source": [
        "assert(len(predictions) == len(test_french_sentences))"
      ],
      "metadata": {
        "id": "sEhbxuX1eDfc"
      },
      "execution_count": 437,
      "outputs": []
    },
    {
      "cell_type": "code",
      "source": [
        "bleu_score = compute_bleu_score(predictions, test_french_sentences, max_order=2)[\"bleu\"]\n",
        "print(bleu_score)"
      ],
      "metadata": {
        "colab": {
          "base_uri": "https://localhost:8080/"
        },
        "id": "rESD2h4od4OJ",
        "outputId": "76e45974-a52e-466c-91f3-cc6ce2ffcd82"
      },
      "execution_count": 438,
      "outputs": [
        {
          "output_type": "stream",
          "name": "stdout",
          "text": [
            "0.6930877784853977\n"
          ]
        }
      ]
    },
    {
      "cell_type": "markdown",
      "source": [
        "# Analysis"
      ],
      "metadata": {
        "id": "pjQRaDbhgwHf"
      }
    },
    {
      "cell_type": "markdown",
      "source": [
        "These are the full results obtained with various combination of model architecture (all the model where trained for 30 epochs):\n",
        "\n",
        "|embedding_size|n_GRU_layers|bidirectional|bleu_score|\n",
        "|--------------|------------|-------------|----------|\n",
        "|128           |1           |True        |0.7588480144440823|\n",
        "|128           |2           |True        |0.7602675090397024|\n",
        "|128           |3           |True        |0.7521967525891776|\n",
        "|128           |1           |False        |0.6872406801092699|\n",
        "|128           |2           |False        |0.6867257598281586|\n",
        "|128           |3           |False        |0.6861980883307213|\n",
        "|256           |1           |True        |0.7569880700203272|\n",
        "|256           |2           |True        |0.7606519587688819|\n",
        "|256           |3           |True        |0.4371917495200416|\n",
        "|256           |1           |False        |0.6987764937535867|\n",
        "|256           |2           |False        |0.6937211622615038|\n",
        "|256           |3           |False        |0.6930877784853977|\n",
        "\n",
        "Looking at the results we can observe that:\n",
        "\n",
        "- **Bidirectional models consistently outperform unidirectional models.**  \n",
        "  - Example: At 128-dim, **bidirectional (0.7603)** vs. **unidirectional (0.6872)**.  \n",
        "- **2-layer GRUs achieve the best BLEU scores.**  \n",
        "  - Adding a **third layer reduces performance**, especially for 256-dim (**BLEU drops to 0.4372**).\n",
        "- **Increasing embedding size (128 → 256) has minimal impact** on BLEU.  \n",
        "  - Example: **BLEU = 0.7603 (128-dim, 2-layer, bidirectional)** vs. **0.7607 (256-dim, same config).**\n",
        "\n",
        "**128-dim, 2-layer, bidirectional GRU** (**BLEU = 0.7603**) is the best balance of performance and efficiency.\n"
      ],
      "metadata": {
        "id": "om-3iJl0g4YF"
      }
    }
  ],
  "metadata": {
    "accelerator": "GPU",
    "colab": {
      "gpuType": "T4",
      "provenance": []
    },
    "kernelspec": {
      "display_name": "venv",
      "language": "python",
      "name": "python3"
    },
    "language_info": {
      "codemirror_mode": {
        "name": "ipython",
        "version": 3
      },
      "file_extension": ".py",
      "mimetype": "text/x-python",
      "name": "python",
      "nbconvert_exporter": "python",
      "pygments_lexer": "ipython3",
      "version": "3.10.12"
    }
  },
  "nbformat": 4,
  "nbformat_minor": 0
}